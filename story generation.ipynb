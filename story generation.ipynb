{
  "nbformat": 4,
  "nbformat_minor": 0,
  "metadata": {
    "colab": {
      "name": "Untitled40.ipynb",
      "provenance": []
    },
    "kernelspec": {
      "name": "python3",
      "display_name": "Python 3"
    },
    "language_info": {
      "name": "python"
    }
  },
  "cells": [
    {
      "cell_type": "code",
      "source": [
        "import random\n",
        "when = ['A few years ago', 'Yesterday', 'Last night', 'A long time ago','On 20th Jan']\n",
        "who = ['a rabbit', 'an elephant', 'a mouse', 'a turtle','a cat']\n",
        "name = ['Ali', 'Miriam','daniel', 'Hoouk', 'Starwalker']\n",
        "residence = ['Barcelona','India', 'Germany', 'Venice', 'England']\n",
        "went = ['cinema', 'university','seminar', 'school', 'laundry']\n",
        "happened = ['made a lot of friends','Eats a burger', 'found a secret key', 'solved a mistery', 'wrote a book']\n",
        "print(random.choice(when) + ', ' + random.choice(who) + ' that lived in ' + random.choice(residence) + ', went to the ' + random.choice(went) + ' and ' + random.choice(happened))"
      ],
      "metadata": {
        "id": "DaSZ60lJM24d"
      },
      "execution_count": null,
      "outputs": []
    }
  ]
}